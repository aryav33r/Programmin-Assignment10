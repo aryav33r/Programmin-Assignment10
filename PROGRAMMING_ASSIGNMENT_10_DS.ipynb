{
  "nbformat": 4,
  "nbformat_minor": 0,
  "metadata": {
    "colab": {
      "provenance": []
    },
    "kernelspec": {
      "name": "python3",
      "display_name": "Python 3"
    },
    "language_info": {
      "name": "python"
    }
  },
  "cells": [
    {
      "cell_type": "markdown",
      "source": [
        "1. **Write a Python program to find sum of elements in list?**"
      ],
      "metadata": {
        "id": "27AMUNCUhCoP"
      }
    },
    {
      "cell_type": "code",
      "source": [
        "def sum_of_list_elements(input_list):\n",
        "  \"\"\"Calculates the sum of elements in a list.\n",
        "\n",
        "  Args:\n",
        "    input_list: A list of numbers.\n",
        "\n",
        "  Returns:\n",
        "    The sum of the elements in the list.\n",
        "  \"\"\"\n",
        "  total = 0\n",
        "  for element in input_list:\n",
        "    total += element\n",
        "  return total\n",
        "\n",
        "# Example usage:\n",
        "my_list = [1, 2, 3, 4, 5]\n",
        "list_sum = sum_of_list_elements(my_list)\n",
        "print(f\"The sum of the elements in the list is: {list_sum}\")"
      ],
      "metadata": {
        "id": "tuH_rK5ghOJ6"
      },
      "execution_count": null,
      "outputs": []
    },
    {
      "cell_type": "markdown",
      "source": [
        "2. **Write a Python program to Multiply all numbers in the list?**"
      ],
      "metadata": {
        "id": "eN5ZNU9nheNZ"
      }
    },
    {
      "cell_type": "code",
      "source": [
        "def multiply_list_elements(input_list):\n",
        "  \"\"\"Multiplies all numbers in a list.\n",
        "\n",
        "  Args:\n",
        "    input_list: A list of numbers.\n",
        "\n",
        "  Returns:\n",
        "    The product of all numbers in the list.\n",
        "  \"\"\"\n",
        "  product = 1\n",
        "  for number in input_list:\n",
        "    product *= number\n",
        "  return product\n",
        "\n",
        "# Example usage:\n",
        "my_list = [1, 2, 3, 4, 5]\n",
        "list_product = multiply_list_elements(my_list)\n",
        "print(f\"The product of the elements in the list is: {list_product}\")"
      ],
      "metadata": {
        "colab": {
          "base_uri": "https://localhost:8080/"
        },
        "id": "BxnZx9hsh60H",
        "outputId": "d43baa7b-3b5d-4b8a-b680-2c5d63877434"
      },
      "execution_count": null,
      "outputs": [
        {
          "output_type": "stream",
          "name": "stdout",
          "text": [
            "The product of the elements in the list is: 120\n"
          ]
        }
      ]
    },
    {
      "cell_type": "markdown",
      "source": [
        "3. **Write a Python program to find smallest number in a list?**"
      ],
      "metadata": {
        "id": "LUOOEgyjiJ0A"
      }
    },
    {
      "cell_type": "code",
      "source": [
        "def find_smallest_number(input_list):\n",
        "  \"\"\"Finds the smallest number in a list.\n",
        "\n",
        "  Args:\n",
        "    input_list: A list of numbers.\n",
        "\n",
        "  Returns:\n",
        "    The smallest number in the list.\n",
        "  \"\"\"\n",
        "  if not input_list:\n",
        "    return None  # Handle empty list case\n",
        "\n",
        "  smallest = input_list[0]\n",
        "  for number in input_list:\n",
        "    if number < smallest:\n",
        "      smallest = number\n",
        "  return smallest\n",
        "\n",
        "# Example usage:\n",
        "my_list = [5, 2, 8, 1, 9]\n",
        "smallest_number = find_smallest_number(my_list)\n",
        "\n",
        "if smallest_number is not None:\n",
        "  print(f\"The smallest number in the list is: {smallest_number}\")\n",
        "else:\n",
        "  print(\"The list is empty.\")"
      ],
      "metadata": {
        "colab": {
          "base_uri": "https://localhost:8080/"
        },
        "id": "jAxPM4aWlkww",
        "outputId": "9f95ba4e-267e-4510-ff38-8aa31b114b65"
      },
      "execution_count": 1,
      "outputs": [
        {
          "output_type": "stream",
          "name": "stdout",
          "text": [
            "The smallest number in the list is: 1\n"
          ]
        }
      ]
    },
    {
      "cell_type": "markdown",
      "source": [
        "4. **Write a Python program to find largest number in a list?**"
      ],
      "metadata": {
        "id": "7tPH-JFjluLO"
      }
    },
    {
      "cell_type": "code",
      "source": [
        "def find_largest_number(input_list):\n",
        "  \"\"\"Finds the largest number in a list.\n",
        "\n",
        "  Args:\n",
        "    input_list: A list of numbers.\n",
        "\n",
        "  Returns:\n",
        "    The largest number in the list.\n",
        "  \"\"\"\n",
        "  if not input_list:\n",
        "    return None  # Handle empty list case\n",
        "\n",
        "  largest = input_list[0]\n",
        "  for number in input_list:\n",
        "    if number > largest:\n",
        "      largest = number\n",
        "  return largest\n",
        "\n",
        "# Example usage:\n",
        "my_list = [5, 2, 8, 1, 9]\n",
        "largest_number = find_largest_number(my_list)\n",
        "\n",
        "if largest_number is not None:\n",
        "  print(f\"The largest number in the list is: {largest_number}\")\n",
        "else:\n",
        "  print(\"The list is empty.\")"
      ],
      "metadata": {
        "colab": {
          "base_uri": "https://localhost:8080/"
        },
        "id": "uLL-ix7-lzFF",
        "outputId": "88ccaec3-16c5-4594-fd1f-b0c0747b23ae"
      },
      "execution_count": 2,
      "outputs": [
        {
          "output_type": "stream",
          "name": "stdout",
          "text": [
            "The largest number in the list is: 9\n"
          ]
        }
      ]
    },
    {
      "cell_type": "markdown",
      "source": [
        "5. **Write a Python program to find second largest number in a list?**"
      ],
      "metadata": {
        "id": "jI1DOo_8l6rf"
      }
    },
    {
      "cell_type": "code",
      "source": [
        "def find_second_largest_number(input_list):\n",
        "  \"\"\"Finds the second largest number in a list.\n",
        "\n",
        "  Args:\n",
        "    input_list: A list of numbers.\n",
        "\n",
        "  Returns:\n",
        "    The second largest number in the list, or None if the list has less than two elements.\n",
        "  \"\"\"\n",
        "  if len(input_list) < 2:\n",
        "    return None  # Not enough elements to find the second largest\n",
        "\n",
        "  # Sort the list in descending order\n",
        "  sorted_list = sorted(input_list, reverse=True)\n",
        "\n",
        "  # The second largest element is at index 1\n",
        "  return sorted_list[1]\n",
        "\n",
        "# Example usage:\n",
        "my_list = [5, 2, 8, 1, 9]\n",
        "second_largest_number = find_second_largest_number(my_list)\n",
        "\n",
        "if second_largest_number is not None:\n",
        "  print(f\"The second largest number in the list is: {second_largest_number}\")\n",
        "else:\n",
        "  print(\"The list has less than two elements.\")\n",
        "\n",
        "my_list_2 = [1]\n",
        "second_largest_number_2 = find_second_largest_number(my_list_2)\n",
        "\n",
        "if second_largest_number_2 is not None:\n",
        "  print(f\"The second largest number in the list is: {second_largest_number_2}\")\n",
        "else:\n",
        "  print(\"The list has less than two elements.\")"
      ],
      "metadata": {
        "colab": {
          "base_uri": "https://localhost:8080/"
        },
        "id": "E264mR8emJU1",
        "outputId": "f7fdec3a-cb89-4c78-a7ed-da426927bbfd"
      },
      "execution_count": 5,
      "outputs": [
        {
          "output_type": "stream",
          "name": "stdout",
          "text": [
            "The second largest number in the list is: 8\n",
            "The list has less than two elements.\n"
          ]
        }
      ]
    },
    {
      "cell_type": "markdown",
      "source": [
        "6. **Write a Python program to find N largest elements from a list?**"
      ],
      "metadata": {
        "id": "P-U5zNBFmRA2"
      }
    },
    {
      "cell_type": "code",
      "source": [
        "def find_n_largest_elements(input_list, n):\n",
        "  \"\"\"Finds the N largest elements from a list.\n",
        "\n",
        "  Args:\n",
        "    input_list: A list of numbers.\n",
        "    n: The number of largest elements to find.\n",
        "\n",
        "  Returns:\n",
        "    A list containing the N largest elements, or None if the list has fewer than N elements.\n",
        "  \"\"\"\n",
        "  if len(input_list) < n:\n",
        "    return None  # Not enough elements\n",
        "\n",
        "  # Sort the list in descending order\n",
        "  sorted_list = sorted(input_list, reverse=True)\n",
        "\n",
        "  # Return the first N elements\n",
        "  return sorted_list[:n]\n",
        "\n",
        "# Example usage:\n",
        "my_list = [5, 2, 8, 1, 9, 3, 7, 6, 4]\n",
        "n_value = 3\n",
        "n_largest_elements = find_n_largest_elements(my_list, n_value)\n",
        "\n",
        "if n_largest_elements is not None:\n",
        "  print(f\"The {n_value} largest elements in the list are: {n_largest_elements}\")\n",
        "else:\n",
        "  print(f\"The list has less than {n_value} elements.\")"
      ],
      "metadata": {
        "colab": {
          "base_uri": "https://localhost:8080/"
        },
        "id": "08E7XTi7mmME",
        "outputId": "ffb65120-0e9b-4796-cd1a-3758583489a9"
      },
      "execution_count": 6,
      "outputs": [
        {
          "output_type": "stream",
          "name": "stdout",
          "text": [
            "The 3 largest elements in the list are: [9, 8, 7]\n"
          ]
        }
      ]
    },
    {
      "cell_type": "markdown",
      "source": [
        "7. **Write a Python program to print even numbers in a list?**"
      ],
      "metadata": {
        "id": "3TTbZfzumvgQ"
      }
    },
    {
      "cell_type": "code",
      "source": [
        "def print_even_numbers(input_list):\n",
        "  \"\"\"Prints the even numbers in a list.\n",
        "\n",
        "  Args:\n",
        "    input_list: A list of numbers.\n",
        "  \"\"\"\n",
        "  print(\"Even numbers in the list:\")\n",
        "  for number in input_list:\n",
        "    if number % 2 == 0:\n",
        "      print(number)\n",
        "\n",
        "# Example usage:\n",
        "my_list = [1, 2, 3, 4, 5, 6, 7, 8, 9, 10]\n",
        "print_even_numbers(my_list)"
      ],
      "metadata": {
        "colab": {
          "base_uri": "https://localhost:8080/"
        },
        "id": "NO6pQ9Oqm9k1",
        "outputId": "b9d5fa4f-2b24-4079-a764-cf90d9086878"
      },
      "execution_count": 7,
      "outputs": [
        {
          "output_type": "stream",
          "name": "stdout",
          "text": [
            "Even numbers in the list:\n",
            "2\n",
            "4\n",
            "6\n",
            "8\n",
            "10\n"
          ]
        }
      ]
    },
    {
      "cell_type": "markdown",
      "source": [
        "8. **Write a Python program to print odd numbers in a List?**"
      ],
      "metadata": {
        "id": "fo5Ey5O0nBLq"
      }
    },
    {
      "cell_type": "code",
      "source": [
        "def print_odd_numbers(input_list):\n",
        "  \"\"\"Prints the odd numbers in a list.\n",
        "\n",
        "  Args:\n",
        "    input_list: A list of numbers.\n",
        "  \"\"\"\n",
        "  print(\"Odd numbers in the list:\")\n",
        "  for number in input_list:\n",
        "    if number % 2 != 0:\n",
        "      print(number)\n",
        "\n",
        "# Example usage:\n",
        "my_list = [1, 2, 3, 4, 5, 6, 7, 8, 9, 10]\n",
        "print_odd_numbers(my_list)"
      ],
      "metadata": {
        "colab": {
          "base_uri": "https://localhost:8080/"
        },
        "id": "ijtZuHOinH0f",
        "outputId": "637d4fed-5f29-4785-bf50-9b07016130d9"
      },
      "execution_count": 8,
      "outputs": [
        {
          "output_type": "stream",
          "name": "stdout",
          "text": [
            "Odd numbers in the list:\n",
            "1\n",
            "3\n",
            "5\n",
            "7\n",
            "9\n"
          ]
        }
      ]
    },
    {
      "cell_type": "markdown",
      "source": [
        "9. **Write a Python program to Remove empty List from List?**"
      ],
      "metadata": {
        "id": "MMZu2IwVnOM_"
      }
    },
    {
      "cell_type": "code",
      "source": [
        "def remove_empty_lists(input_list):\n",
        "  \"\"\"Removes empty lists from a list.\n",
        "\n",
        "  Args:\n",
        "    input_list: A list that may contain empty lists.\n",
        "\n",
        "  Returns:\n",
        "    A new list with empty lists removed.\n",
        "  \"\"\"\n",
        "  return [item for item in input_list if item != []]\n",
        "\n",
        "# Example usage:\n",
        "my_list = [1, 2, [], 4, [], 5, []]\n",
        "list_without_empty = remove_empty_lists(my_list)\n",
        "print(f\"Original list: {my_list}\")\n",
        "print(f\"List after removing empty lists: {list_without_empty}\")\n",
        "\n",
        "my_list_2 = [[], [], []]\n",
        "list_without_empty_2 = remove_empty_lists(my_list_2)\n",
        "print(f\"Original list: {my_list_2}\")\n",
        "print(f\"List after removing empty lists: {list_without_empty_2}\")"
      ],
      "metadata": {
        "colab": {
          "base_uri": "https://localhost:8080/"
        },
        "id": "ikpd8XnSnZ8D",
        "outputId": "6b9ed8a0-2245-43c3-dda8-05254f55634e"
      },
      "execution_count": 9,
      "outputs": [
        {
          "output_type": "stream",
          "name": "stdout",
          "text": [
            "Original list: [1, 2, [], 4, [], 5, []]\n",
            "List after removing empty lists: [1, 2, 4, 5]\n",
            "Original list: [[], [], []]\n",
            "List after removing empty lists: []\n"
          ]
        }
      ]
    },
    {
      "cell_type": "markdown",
      "source": [
        "10. **Write a Python program to Cloning or Copying a list?**"
      ],
      "metadata": {
        "id": "qlG934N6nb0p"
      }
    },
    {
      "cell_type": "code",
      "source": [
        "# Method 1: Using the slice operator (:)\n",
        "original_list = [1, 2, 3, 4, 5]\n",
        "copied_list_1 = original_list[:]\n",
        "print(f\"Original list: {original_list}\")\n",
        "print(f\"Copied list (slice operator): {copied_list_1}\")\n",
        "\n",
        "# Modifying the copied list does not affect the original\n",
        "copied_list_1.append(6)\n",
        "print(f\"Original list after modifying copied_list_1: {original_list}\")\n",
        "print(f\"Copied list (slice operator) after modification: {copied_list_1}\")"
      ],
      "metadata": {
        "colab": {
          "base_uri": "https://localhost:8080/"
        },
        "id": "_mr6zYFhnyYe",
        "outputId": "5f8b831b-4c95-4de9-f0b1-0979d44de6ed"
      },
      "execution_count": 11,
      "outputs": [
        {
          "output_type": "stream",
          "name": "stdout",
          "text": [
            "Original list: [1, 2, 3, 4, 5]\n",
            "Copied list (slice operator): [1, 2, 3, 4, 5]\n",
            "Original list after modifying copied_list_1: [1, 2, 3, 4, 5]\n",
            "Copied list (slice operator) after modification: [1, 2, 3, 4, 5, 6]\n"
          ]
        }
      ]
    },
    {
      "cell_type": "markdown",
      "source": [
        "11. **Write a Python program to Count occurrences of an element in a list?**"
      ],
      "metadata": {
        "id": "wejtyB5ZnsBR"
      }
    },
    {
      "cell_type": "code",
      "source": [
        "def count_element_occurrences(input_list, element):\n",
        "  \"\"\"Counts the occurrences of an element in a list.\n",
        "\n",
        "  Args:\n",
        "    input_list: The list to search within.\n",
        "    element: The element to count.\n",
        "\n",
        "  Returns:\n",
        "    The number of times the element appears in the list.\n",
        "  \"\"\"\n",
        "  count = 0\n",
        "  for item in input_list:\n",
        "    if item == element:\n",
        "      count += 1\n",
        "  return count\n",
        "\n",
        "# Example usage:\n",
        "my_list = [1, 2, 3, 4, 2, 5, 2, 6]\n",
        "element_to_count = 2\n",
        "occurrences = count_element_occurrences(my_list, element_to_count)\n",
        "print(f\"The element {element_to_count} appears {occurrences} times in the list.\")\n",
        "\n",
        "element_to_count_2 = 7\n",
        "occurrences_2 = count_element_occurrences(my_list, element_to_count_2)\n",
        "print(f\"The element {element_to_count_2} appears {occurrences_2} times in the list.\")"
      ],
      "metadata": {
        "colab": {
          "base_uri": "https://localhost:8080/"
        },
        "id": "GQFqJ-CFoI3l",
        "outputId": "ee68e9e5-9b1b-4a9c-9ac4-03dd27960d8f"
      },
      "execution_count": 12,
      "outputs": [
        {
          "output_type": "stream",
          "name": "stdout",
          "text": [
            "The element 2 appears 3 times in the list.\n",
            "The element 7 appears 0 times in the list.\n"
          ]
        }
      ]
    }
  ]
}